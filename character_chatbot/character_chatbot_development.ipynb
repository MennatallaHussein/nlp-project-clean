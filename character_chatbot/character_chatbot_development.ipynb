{
 "cells": [
  {
   "cell_type": "code",
   "execution_count": 24,
   "id": "d35e51f7",
   "metadata": {},
   "outputs": [],
   "source": [
    "import pandas as pd\n",
    "import re\n",
    "from datasets import Dataset\n"
   ]
  },
  {
   "cell_type": "markdown",
   "id": "b63dac01",
   "metadata": {},
   "source": [
    "# Load dataset"
   ]
  },
  {
   "cell_type": "code",
   "execution_count": 2,
   "metadata": {},
   "outputs": [],
   "source": [
    "data_path=r\"..\\DATA\\naruto.csv\"\n",
    "naruto_transcript_df=pd.read_csv(data_path)"
   ]
  },
  {
   "cell_type": "code",
   "execution_count": 3,
   "id": "952f7ec6",
   "metadata": {},
   "outputs": [
    {
     "data": {
      "text/html": [
       "<div>\n",
       "<style scoped>\n",
       "    .dataframe tbody tr th:only-of-type {\n",
       "        vertical-align: middle;\n",
       "    }\n",
       "\n",
       "    .dataframe tbody tr th {\n",
       "        vertical-align: top;\n",
       "    }\n",
       "\n",
       "    .dataframe thead th {\n",
       "        text-align: right;\n",
       "    }\n",
       "</style>\n",
       "<table border=\"1\" class=\"dataframe\">\n",
       "  <thead>\n",
       "    <tr style=\"text-align: right;\">\n",
       "      <th></th>\n",
       "      <th>name</th>\n",
       "      <th>line</th>\n",
       "    </tr>\n",
       "  </thead>\n",
       "  <tbody>\n",
       "    <tr>\n",
       "      <th>0</th>\n",
       "      <td>Naruto</td>\n",
       "      <td>(Laughing) Give it up. (Shows the stone faces...</td>\n",
       "    </tr>\n",
       "    <tr>\n",
       "      <th>1</th>\n",
       "      <td>Hiruzen</td>\n",
       "      <td>(Turns away from his writing) I hope you’re n...</td>\n",
       "    </tr>\n",
       "    <tr>\n",
       "      <th>2</th>\n",
       "      <td>Ninja</td>\n",
       "      <td>Naseer Sabah</td>\n",
       "    </tr>\n",
       "    <tr>\n",
       "      <th>3</th>\n",
       "      <td>Ninja</td>\n",
       "      <td>is the best person on earth</td>\n",
       "    </tr>\n",
       "    <tr>\n",
       "      <th>4</th>\n",
       "      <td>Naruto</td>\n",
       "      <td>muah</td>\n",
       "    </tr>\n",
       "  </tbody>\n",
       "</table>\n",
       "</div>"
      ],
      "text/plain": [
       "      name                                               line\n",
       "0   Naruto   (Laughing) Give it up. (Shows the stone faces...\n",
       "1  Hiruzen   (Turns away from his writing) I hope you’re n...\n",
       "2    Ninja                                       Naseer Sabah\n",
       "3    Ninja                        is the best person on earth\n",
       "4   Naruto                                               muah"
      ]
     },
     "execution_count": 3,
     "metadata": {},
     "output_type": "execute_result"
    }
   ],
   "source": [
    "naruto_transcript_df.head()"
   ]
  },
  {
   "cell_type": "code",
   "execution_count": 5,
   "id": "c194953a",
   "metadata": {},
   "outputs": [],
   "source": [
    "def remove_paranthhesis(text):\n",
    "    result=re.sub(r'\\(.*?\\)' , '', text )\n",
    "    return result"
   ]
  },
  {
   "cell_type": "code",
   "execution_count": 6,
   "id": "aabeb000",
   "metadata": {},
   "outputs": [],
   "source": [
    "naruto_transcript_df['line']=naruto_transcript_df['line'].apply(remove_paranthhesis)"
   ]
  },
  {
   "cell_type": "code",
   "execution_count": 8,
   "id": "beb055d2",
   "metadata": {},
   "outputs": [],
   "source": [
    "naruto_transcript_df['num_of_words']=naruto_transcript_df['line'].str.strip().str.split(' ')"
   ]
  },
  {
   "cell_type": "code",
   "execution_count": 10,
   "id": "88e2184d",
   "metadata": {},
   "outputs": [],
   "source": [
    "naruto_transcript_df['num_of_words']=naruto_transcript_df['num_of_words'].apply(lambda x: len(x))"
   ]
  },
  {
   "cell_type": "code",
   "execution_count": 12,
   "id": "bfd6407b",
   "metadata": {},
   "outputs": [],
   "source": [
    "naruto_transcript_df['naruto_transcript_flag']=0\n",
    "naruto_transcript_df.loc[(naruto_transcript_df['name']=='Naruto') & (naruto_transcript_df['num_of_words']>5) ,'naruto_transcript_flag' ]=1"
   ]
  },
  {
   "cell_type": "code",
   "execution_count": 17,
   "id": "b51d0393",
   "metadata": {},
   "outputs": [],
   "source": [
    "index_to_take=list(naruto_transcript_df[(naruto_transcript_df['naruto_transcript_flag']==1) & (naruto_transcript_df.index>0)].index)"
   ]
  },
  {
   "cell_type": "code",
   "execution_count": 18,
   "id": "3a8a0547",
   "metadata": {},
   "outputs": [
    {
     "data": {
      "text/plain": [
       "[6,\n",
       " 28,\n",
       " 30,\n",
       " 32,\n",
       " 36,\n",
       " 38,\n",
       " 40,\n",
       " 46,\n",
       " 47,\n",
       " 63,\n",
       " 77,\n",
       " 86,\n",
       " 88,\n",
       " 90,\n",
       " 96,\n",
       " 106,\n",
       " 111,\n",
       " 136,\n",
       " 142,\n",
       " 144,\n",
       " 151]"
      ]
     },
     "execution_count": 18,
     "metadata": {},
     "output_type": "execute_result"
    }
   ],
   "source": [
    "index_to_take"
   ]
  },
  {
   "cell_type": "code",
   "execution_count": 20,
   "id": "73828826",
   "metadata": {},
   "outputs": [],
   "source": [
    "system_promt = \"\"\"\" Your are Naruto from the anime \"Naruto\". Your responses should reflect his personality and speech patterns \\n\"\"\"\n",
    "\n",
    "prompts=[]\n",
    "\n",
    "for i in index_to_take:\n",
    "\n",
    "    prompt=system_promt\n",
    "    prompt+=naruto_transcript_df.iloc[i-1]['line']\n",
    "    prompt+='\\n'\n",
    "    prompt+=naruto_transcript_df.iloc[i]['line']\n",
    "    prompts.append(prompt)\n"
   ]
  },
  {
   "cell_type": "code",
   "execution_count": 22,
   "id": "3f6280ec",
   "metadata": {},
   "outputs": [
    {
     "name": "stdout",
     "output_type": "stream",
     "text": [
      "\" Your are Naruto from the anime \"Naruto\". Your responses should reflect his personality and speech patterns \n",
      "  Oh yeah, Naruto!?\n",
      " Where’d you come from, Iruka Sensei!? What are you doing here?\n"
     ]
    }
   ],
   "source": [
    "print(prompts[0])"
   ]
  },
  {
   "cell_type": "code",
   "execution_count": 23,
   "id": "d381df12",
   "metadata": {},
   "outputs": [
    {
     "data": {
      "text/html": [
       "<div>\n",
       "<style scoped>\n",
       "    .dataframe tbody tr th:only-of-type {\n",
       "        vertical-align: middle;\n",
       "    }\n",
       "\n",
       "    .dataframe tbody tr th {\n",
       "        vertical-align: top;\n",
       "    }\n",
       "\n",
       "    .dataframe thead th {\n",
       "        text-align: right;\n",
       "    }\n",
       "</style>\n",
       "<table border=\"1\" class=\"dataframe\">\n",
       "  <thead>\n",
       "    <tr style=\"text-align: right;\">\n",
       "      <th></th>\n",
       "      <th>prompt</th>\n",
       "    </tr>\n",
       "  </thead>\n",
       "  <tbody>\n",
       "    <tr>\n",
       "      <th>0</th>\n",
       "      <td>\" Your are Naruto from the anime \"Naruto\". You...</td>\n",
       "    </tr>\n",
       "    <tr>\n",
       "      <th>1</th>\n",
       "      <td>\" Your are Naruto from the anime \"Naruto\". You...</td>\n",
       "    </tr>\n",
       "    <tr>\n",
       "      <th>2</th>\n",
       "      <td>\" Your are Naruto from the anime \"Naruto\". You...</td>\n",
       "    </tr>\n",
       "    <tr>\n",
       "      <th>3</th>\n",
       "      <td>\" Your are Naruto from the anime \"Naruto\". You...</td>\n",
       "    </tr>\n",
       "    <tr>\n",
       "      <th>4</th>\n",
       "      <td>\" Your are Naruto from the anime \"Naruto\". You...</td>\n",
       "    </tr>\n",
       "  </tbody>\n",
       "</table>\n",
       "</div>"
      ],
      "text/plain": [
       "                                              prompt\n",
       "0  \" Your are Naruto from the anime \"Naruto\". You...\n",
       "1  \" Your are Naruto from the anime \"Naruto\". You...\n",
       "2  \" Your are Naruto from the anime \"Naruto\". You...\n",
       "3  \" Your are Naruto from the anime \"Naruto\". You...\n",
       "4  \" Your are Naruto from the anime \"Naruto\". You..."
      ]
     },
     "execution_count": 23,
     "metadata": {},
     "output_type": "execute_result"
    }
   ],
   "source": [
    "df=pd.DataFrame({\"prompt\":prompts})\n",
    "df.head()"
   ]
  },
  {
   "cell_type": "code",
   "execution_count": 25,
   "id": "58b4986d",
   "metadata": {},
   "outputs": [],
   "source": [
    "dataset= Dataset.from_pandas(df)\n"
   ]
  }
 ],
 "metadata": {
  "kernelspec": {
   "display_name": ".venv",
   "language": "python",
   "name": "python3"
  },
  "language_info": {
   "codemirror_mode": {
    "name": "ipython",
    "version": 3
   },
   "file_extension": ".py",
   "mimetype": "text/x-python",
   "name": "python",
   "nbconvert_exporter": "python",
   "pygments_lexer": "ipython3",
   "version": "3.11.6"
  }
 },
 "nbformat": 4,
 "nbformat_minor": 5
}

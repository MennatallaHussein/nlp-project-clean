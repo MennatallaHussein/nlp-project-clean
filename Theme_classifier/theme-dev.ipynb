{
 "cells": [
  {
   "cell_type": "code",
   "execution_count": 128,
   "id": "37ed2c64",
   "metadata": {},
   "outputs": [],
   "source": [
    "from transformers import pipeline\n",
    "from nltk import sent_tokenize\n",
    "import nltk\n",
    "import torch\n",
    "from glob import glob\n",
    "import pandas as pd\n",
    "import numpy as np"
   ]
  },
  {
   "cell_type": "code",
   "execution_count": null,
   "id": "409ece33",
   "metadata": {},
   "outputs": [
    {
     "name": "stderr",
     "output_type": "stream",
     "text": [
      "[nltk_data] Downloading package punkt to\n",
      "[nltk_data]     C:\\Users\\menah\\AppData\\Roaming\\nltk_data...\n",
      "[nltk_data]   Package punkt is already up-to-date!\n"
     ]
    },
    {
     "data": {
      "text/plain": [
       "True"
      ]
     },
     "execution_count": 14,
     "metadata": {},
     "output_type": "execute_result"
    }
   ],
   "source": [
    "nltk.download('punkt')"
   ]
  },
  {
   "cell_type": "markdown",
   "id": "d03efb02",
   "metadata": {},
   "source": [
    "# load model"
   ]
  },
  {
   "cell_type": "code",
   "execution_count": 16,
   "id": "d727e3ce",
   "metadata": {},
   "outputs": [],
   "source": [
    "model_name=\"facebook/bart-large-mnli\"\n",
    "device=0 if torch.cuda.is_available() else 'cpu'"
   ]
  },
  {
   "cell_type": "code",
   "execution_count": 17,
   "id": "69bf070e",
   "metadata": {},
   "outputs": [],
   "source": [
    "def load_model(device):\n",
    "    theme_classifier=pipeline(\n",
    "        'zero-shot-classification',\n",
    "        model=model_name,\n",
    "        device=device\n",
    "    )\n",
    "    return theme_classifier"
   ]
  },
  {
   "cell_type": "code",
   "execution_count": 18,
   "id": "1b29ea58",
   "metadata": {},
   "outputs": [
    {
     "data": {
      "application/vnd.jupyter.widget-view+json": {
       "model_id": "53a88bebd2e84cd3b3e9a3501c2572db",
       "version_major": 2,
       "version_minor": 0
      },
      "text/plain": [
       "config.json: 0.00B [00:00, ?B/s]"
      ]
     },
     "metadata": {},
     "output_type": "display_data"
    },
    {
     "name": "stderr",
     "output_type": "stream",
     "text": [
      "c:\\Users\\menah\\anaconda3\\Lib\\site-packages\\huggingface_hub\\file_download.py:159: UserWarning: `huggingface_hub` cache-system uses symlinks by default to efficiently store duplicated files but your machine does not support them in C:\\Users\\menah\\.cache\\huggingface\\hub\\models--facebook--bart-large-mnli. Caching files will still work but in a degraded version that might require more space on your disk. This warning can be disabled by setting the `HF_HUB_DISABLE_SYMLINKS_WARNING` environment variable. For more details, see https://huggingface.co/docs/huggingface_hub/how-to-cache#limitations.\n",
      "To support symlinks on Windows, you either need to activate Developer Mode or to run Python as an administrator. In order to see activate developer mode, see this article: https://docs.microsoft.com/en-us/windows/apps/get-started/enable-your-device-for-development\n",
      "  warnings.warn(message)\n"
     ]
    },
    {
     "name": "stdout",
     "output_type": "stream",
     "text": [
      "WARNING:tensorflow:From c:\\Users\\menah\\anaconda3\\Lib\\site-packages\\tf_keras\\src\\losses.py:2976: The name tf.losses.sparse_softmax_cross_entropy is deprecated. Please use tf.compat.v1.losses.sparse_softmax_cross_entropy instead.\n",
      "\n"
     ]
    },
    {
     "data": {
      "application/vnd.jupyter.widget-view+json": {
       "model_id": "f1539250c7964019acc6dca4af3861cc",
       "version_major": 2,
       "version_minor": 0
      },
      "text/plain": [
       "model.safetensors:   0%|          | 0.00/1.63G [00:00<?, ?B/s]"
      ]
     },
     "metadata": {},
     "output_type": "display_data"
    },
    {
     "data": {
      "application/vnd.jupyter.widget-view+json": {
       "model_id": "ea61f3e49449467ca1e699136a3e92b0",
       "version_major": 2,
       "version_minor": 0
      },
      "text/plain": [
       "tokenizer_config.json:   0%|          | 0.00/26.0 [00:00<?, ?B/s]"
      ]
     },
     "metadata": {},
     "output_type": "display_data"
    },
    {
     "data": {
      "application/vnd.jupyter.widget-view+json": {
       "model_id": "46b2a4ce93e54515a57bb9dba8de8b19",
       "version_major": 2,
       "version_minor": 0
      },
      "text/plain": [
       "vocab.json: 0.00B [00:00, ?B/s]"
      ]
     },
     "metadata": {},
     "output_type": "display_data"
    },
    {
     "data": {
      "application/vnd.jupyter.widget-view+json": {
       "model_id": "1ef1a5197d6b462683694ecbeacade7d",
       "version_major": 2,
       "version_minor": 0
      },
      "text/plain": [
       "merges.txt: 0.00B [00:00, ?B/s]"
      ]
     },
     "metadata": {},
     "output_type": "display_data"
    },
    {
     "data": {
      "application/vnd.jupyter.widget-view+json": {
       "model_id": "a342e68c61fe47b1b61b311afd11abda",
       "version_major": 2,
       "version_minor": 0
      },
      "text/plain": [
       "tokenizer.json: 0.00B [00:00, ?B/s]"
      ]
     },
     "metadata": {},
     "output_type": "display_data"
    },
    {
     "name": "stderr",
     "output_type": "stream",
     "text": [
      "c:\\Users\\menah\\anaconda3\\Lib\\site-packages\\transformers\\tokenization_utils_base.py:1601: FutureWarning: `clean_up_tokenization_spaces` was not set. It will be set to `True` by default. This behavior will be depracted in transformers v4.45, and will be then set to `False` by default. For more details check this issue: https://github.com/huggingface/transformers/issues/31884\n",
      "  warnings.warn(\n"
     ]
    }
   ],
   "source": [
    "theme_classifier=load_model(device)"
   ]
  },
  {
   "cell_type": "code",
   "execution_count": 20,
   "id": "077d6200",
   "metadata": {},
   "outputs": [],
   "source": [
    "theme_list = [\"friendship\",\"hope\",\"sacrifice\",\"battle\",\"self development\",\"betrayal\",\"love\",\"dialogue\"]"
   ]
  },
  {
   "cell_type": "code",
   "execution_count": 21,
   "id": "3fa21409",
   "metadata": {},
   "outputs": [
    {
     "data": {
      "text/plain": [
       "{'sequence': 'i gave him a right hook then a left jab',\n",
       " 'labels': ['battle',\n",
       "  'self development',\n",
       "  'hope',\n",
       "  'sacrifice',\n",
       "  'dialogue',\n",
       "  'betrayal',\n",
       "  'love',\n",
       "  'friendship'],\n",
       " 'scores': [0.9196869730949402,\n",
       "  0.5670506358146667,\n",
       "  0.10998109728097916,\n",
       "  0.07718375325202942,\n",
       "  0.01976591907441616,\n",
       "  0.01282662246376276,\n",
       "  0.005526348482817411,\n",
       "  0.0029952244367450476]}"
      ]
     },
     "execution_count": 21,
     "metadata": {},
     "output_type": "execute_result"
    }
   ],
   "source": [
    "theme_classifier(\n",
    "    'i gave him a right hook then a left jab',\n",
    "    theme_list,\n",
    "    multi_label=True\n",
    ")"
   ]
  },
  {
   "cell_type": "markdown",
   "id": "272123dd",
   "metadata": {},
   "source": [
    "# load dataset"
   ]
  },
  {
   "cell_type": "code",
   "execution_count": 109,
   "id": "014ecb20",
   "metadata": {},
   "outputs": [],
   "source": [
    "files = glob(\"DATA\\\\Subtitles\\\\*.ass\")"
   ]
  },
  {
   "cell_type": "code",
   "execution_count": 110,
   "id": "ef075108",
   "metadata": {},
   "outputs": [
    {
     "data": {
      "text/plain": [
       "['DATA\\\\Subtitles\\\\Naruto Season 1 - 01.ass',\n",
       " 'DATA\\\\Subtitles\\\\Naruto Season 1 - 02.ass',\n",
       " 'DATA\\\\Subtitles\\\\Naruto Season 1 - 03.ass',\n",
       " 'DATA\\\\Subtitles\\\\Naruto Season 1 - 04.ass',\n",
       " 'DATA\\\\Subtitles\\\\Naruto Season 1 - 05.ass']"
      ]
     },
     "execution_count": 110,
     "metadata": {},
     "output_type": "execute_result"
    }
   ],
   "source": [
    "files[:5]"
   ]
  },
  {
   "cell_type": "code",
   "execution_count": 111,
   "id": "8e9cb741",
   "metadata": {},
   "outputs": [],
   "source": [
    "with open(files[0], 'r') as file:\n",
    "    lines=file.readlines()\n",
    "    lines= lines[27:]\n",
    "    lines = [\",\".join(line.split(',')[9:]) for line in lines]\n",
    "\n",
    "    "
   ]
  },
  {
   "cell_type": "code",
   "execution_count": 112,
   "id": "38f0e325",
   "metadata": {},
   "outputs": [],
   "source": [
    "lines=[line.replace('\\\\N',' ') for line in lines]"
   ]
  },
  {
   "cell_type": "code",
   "execution_count": 113,
   "id": "4fe27927",
   "metadata": {},
   "outputs": [
    {
     "data": {
      "text/plain": [
       "\"A long time ago, a powerful demon fox appeared with nine tails.\\n With its powerful tails,\\n it could smash mountains and create tidal waves.\\n A band of Ninjas rose to defend their village from attack.\\n We have to wait until the Fourth Hokage gets here!\\n We can't let it get any closer to our village!\\n One great Ninja was able to imprison the monster,\\n but died in the process.\\n This Ninja was known as… the Fourth Hokage.\\n Naruto!\\n\""
      ]
     },
     "execution_count": 113,
     "metadata": {},
     "output_type": "execute_result"
    }
   ],
   "source": [
    "' '.join(lines[:10])"
   ]
  },
  {
   "cell_type": "code",
   "execution_count": 114,
   "id": "bbcffefb",
   "metadata": {},
   "outputs": [
    {
     "data": {
      "text/plain": [
       "['A long time ago, a powerful demon fox appeared with nine tails.\\n',\n",
       " 'With its powerful tails,\\n']"
      ]
     },
     "execution_count": 114,
     "metadata": {},
     "output_type": "execute_result"
    }
   ],
   "source": [
    "lines[:2]"
   ]
  },
  {
   "cell_type": "code",
   "execution_count": 115,
   "id": "82315af2",
   "metadata": {},
   "outputs": [
    {
     "data": {
      "text/plain": [
       "1"
      ]
     },
     "execution_count": 115,
     "metadata": {},
     "output_type": "execute_result"
    }
   ],
   "source": [
    "int(files[0].split('-')[-1].split('.')[0].strip())"
   ]
  },
  {
   "cell_type": "code",
   "execution_count": 116,
   "id": "cef24df9",
   "metadata": {},
   "outputs": [],
   "source": [
    "def load_subtitles_dataset(dataset_path):\n",
    "    subtitles_paths=glob(dataset_path+\"\\\\*.ass\")\n",
    "\n",
    "\n",
    "    scripts=[]\n",
    "    episode_num=[]\n",
    "\n",
    "    for path in subtitles_paths:\n",
    "        with open(path, 'r') as file:\n",
    "            lines=file.readlines()\n",
    "            lines= lines[27:]\n",
    "            lines = [\",\".join(line.split(',')[9:]) for line in lines]\n",
    "\n",
    "        lines=[line.replace('\\\\N',' ') for line in lines]\n",
    "        script=' '.join(lines)\n",
    "\n",
    "        episode=int(path.split('-')[-1].split('.')[0].strip())\n",
    "        \n",
    "        scripts.append(script)\n",
    "        episode_num.append(episode)\n",
    "\n",
    "    df=pd.DataFrame.from_dict({\"episode\":episode_num ,\"script\":scripts})\n",
    "    return df  \n"
   ]
  },
  {
   "cell_type": "code",
   "execution_count": 136,
   "id": "b5d641a2",
   "metadata": {},
   "outputs": [],
   "source": [
    "dataset_path=\"DATA\\\\Subtitles\"\n",
    "df=load_subtitles_dataset(dataset_path)"
   ]
  },
  {
   "cell_type": "code",
   "execution_count": 118,
   "id": "d901da59",
   "metadata": {},
   "outputs": [
    {
     "data": {
      "text/html": [
       "<div>\n",
       "<style scoped>\n",
       "    .dataframe tbody tr th:only-of-type {\n",
       "        vertical-align: middle;\n",
       "    }\n",
       "\n",
       "    .dataframe tbody tr th {\n",
       "        vertical-align: top;\n",
       "    }\n",
       "\n",
       "    .dataframe thead th {\n",
       "        text-align: right;\n",
       "    }\n",
       "</style>\n",
       "<table border=\"1\" class=\"dataframe\">\n",
       "  <thead>\n",
       "    <tr style=\"text-align: right;\">\n",
       "      <th></th>\n",
       "      <th>episode</th>\n",
       "      <th>script</th>\n",
       "    </tr>\n",
       "  </thead>\n",
       "  <tbody>\n",
       "    <tr>\n",
       "      <th>0</th>\n",
       "      <td>1</td>\n",
       "      <td>A long time ago, a powerful demon fox appeared...</td>\n",
       "    </tr>\n",
       "    <tr>\n",
       "      <th>1</th>\n",
       "      <td>2</td>\n",
       "      <td>C'mon!\\n Running like a fugitive,\\n Being chas...</td>\n",
       "    </tr>\n",
       "    <tr>\n",
       "      <th>2</th>\n",
       "      <td>3</td>\n",
       "      <td>C'mon!\\n Running like a fugitive,\\n Being chas...</td>\n",
       "    </tr>\n",
       "    <tr>\n",
       "      <th>3</th>\n",
       "      <td>4</td>\n",
       "      <td>C'mon!\\n Running like a fugitive,\\n Being chas...</td>\n",
       "    </tr>\n",
       "    <tr>\n",
       "      <th>4</th>\n",
       "      <td>5</td>\n",
       "      <td>C'mon!\\n Running like a fugitive,\\n Being chas...</td>\n",
       "    </tr>\n",
       "  </tbody>\n",
       "</table>\n",
       "</div>"
      ],
      "text/plain": [
       "   episode                                             script\n",
       "0        1  A long time ago, a powerful demon fox appeared...\n",
       "1        2  C'mon!\\n Running like a fugitive,\\n Being chas...\n",
       "2        3  C'mon!\\n Running like a fugitive,\\n Being chas...\n",
       "3        4  C'mon!\\n Running like a fugitive,\\n Being chas...\n",
       "4        5  C'mon!\\n Running like a fugitive,\\n Being chas..."
      ]
     },
     "execution_count": 118,
     "metadata": {},
     "output_type": "execute_result"
    }
   ],
   "source": [
    "df.head()"
   ]
  },
  {
   "cell_type": "markdown",
   "id": "a9b32195",
   "metadata": {},
   "source": [
    "# run model"
   ]
  },
  {
   "cell_type": "code",
   "execution_count": 119,
   "id": "5e847273",
   "metadata": {},
   "outputs": [],
   "source": [
    "script=df.iloc[0]['script']"
   ]
  },
  {
   "cell_type": "code",
   "execution_count": 120,
   "id": "fd4155c9",
   "metadata": {},
   "outputs": [
    {
     "data": {
      "text/plain": [
       "['A long time ago, a powerful demon fox appeared with nine tails.',\n",
       " 'With its powerful tails,\\n it could smash mountains and create tidal waves.',\n",
       " 'A band of Ninjas rose to defend their village from attack.',\n",
       " 'We have to wait until the Fourth Hokage gets here!',\n",
       " \"We can't let it get any closer to our village!\",\n",
       " 'One great Ninja was able to imprison the monster,\\n but died in the process.',\n",
       " 'This Ninja was known as… the Fourth Hokage.',\n",
       " 'Naruto!',\n",
       " 'Why did you do such a thing?!',\n",
       " \"You're really gonna get it this time!\",\n",
       " \"I don't care!\",\n",
       " 'You know your problem?',\n",
       " \"You can't do the things I do!\",\n",
       " 'Only I can do this!',\n",
       " \"I'm better than all of you!\",\n",
       " 'Believe it!',\n",
       " \"There's a problem, sir!\",\n",
       " 'Lord Hokage!',\n",
       " 'What is it?',\n",
       " 'Did that Naruto do something again?',\n",
       " 'Yes.',\n",
       " 'He climbed onto the Mountainside Images…\\n And he vandalized and graffitied all over them!',\n",
       " 'Wait!',\n",
       " 'Ha ha…\\n Why should I?',\n",
       " 'Hey, Naruto!',\n",
       " 'How did you suddenly get here, lruka Sensei?',\n",
       " 'The question is what are you doing here when you should be in class now?',\n",
       " 'Now listen, Naruto.',\n",
       " 'You failed the last graduation test and the one before that.',\n",
       " 'This is no time to be goofing off, you fool!',\n",
       " 'We will have a re-test on the Transformation Jutsu!',\n",
       " 'Even those who already passed will take it!',\n",
       " 'Whaaaat?!',\n",
       " 'Sakura Haruno.',\n",
       " 'Here I go…\\n Transform!',\n",
       " 'OK!',\n",
       " 'I did it!',\n",
       " 'Cha!',\n",
       " 'Did you see that, Sasuke?',\n",
       " 'Next, Sasuke Uchiha.',\n",
       " 'Yes.',\n",
       " 'O-OK.\\n Next, Naruto Uzumaki.',\n",
       " 'This is a real pain.',\n",
       " \"And it's all your fault.\",\n",
       " 'Like I care!!',\n",
       " 'OK…\\n Good luck, Naruto…\\n Transform!',\n",
       " 'How was it?',\n",
       " 'I call it the \"Sexy Jutsu\"!',\n",
       " 'You fool!',\n",
       " 'Stop making idiotic spells!',\n",
       " \"Darn…\\n Darn…\\n I won't let you go home unless you clean that all up.\",\n",
       " \"I don't care…\\n There's nobody home anyway.\",\n",
       " 'Naruto...\\n What is it this time?',\n",
       " \"What I meant was…\\n If you clean up all that mess, I'll buy you ramen tonight.\",\n",
       " 'Huh?!',\n",
       " 'Yes!',\n",
       " 'I-I will finish it no time!',\n",
       " 'Enter: Naruto Uzumaki!',\n",
       " 'Naruto.',\n",
       " 'Why did you vandalize those faces?',\n",
       " \"Don't you know who the Hokage leaders are?\",\n",
       " 'Of course, I do!',\n",
       " 'I know they earned the title Lord Hokage\\n because they were the best Ninja of their time, right?',\n",
       " 'Especially the Fourth Hokage was a hero\\n who saved the village from the nine-tail demon fox.',\n",
       " 'Then why did you do that?',\n",
       " \"Because I'll become a Hokage myself.\",\n",
       " \"And I'll be the greatest Hokage of all time!\",\n",
       " 'So that everyone will finally learn to accept me!',\n",
       " 'By the way, Sensei, I have a favor to ask.',\n",
       " 'You want another bowl?',\n",
       " 'Mmmm…No…\\n Can I borrow that Leaf headband for a while?',\n",
       " 'This?',\n",
       " 'No no!',\n",
       " 'This is worn only by those who have graduated from Ninja Academy.',\n",
       " \"Tomorrow, you will…\\n You're so mean!\",\n",
       " \"So that's why you took off your goggles…\\n Humph... One more bowl please!\",\n",
       " 'We are now about to begin the graduation test.',\n",
       " 'When your name is called, proceed to the next classroom.',\n",
       " 'The test is on the Clone Jutsu.',\n",
       " 'Oh no…\\n Of all the…!',\n",
       " 'That is my weakest Jutsu!',\n",
       " 'But still… I will do it no matter what!',\n",
       " 'Clone Jutsu!',\n",
       " 'Disqualified!',\n",
       " 'Iruka Sensei.',\n",
       " 'His physical coordination and stamina are excellent.',\n",
       " 'And he managed to come up with something.',\n",
       " \"Isn't that enough for him to pass?\",\n",
       " 'Mizuki Sensei... All the others created three or more clones.',\n",
       " 'Naruto created just one.',\n",
       " \"And it's practically useless.\",\n",
       " \"I can't give him a passing mark.\",\n",
       " \"I 'm a Ninja now!\",\n",
       " 'You did well.',\n",
       " \"That's my son.\",\n",
       " 'Congratulations for your graduation.',\n",
       " \"I'll cook something good tonight!\",\n",
       " 'Look at that one.',\n",
       " \"It's that boy.\",\n",
       " \"I hear he's the only one who failed.\",\n",
       " 'Serves him right.',\n",
       " 'Imagine what would happen if he became a Ninja.',\n",
       " \"Isn't that the boy who is actually…\\n Hey!\",\n",
       " \"We're not supposed to talk about that.\",\n",
       " 'Iruka.',\n",
       " 'We need to talk later.',\n",
       " 'Yes, sir.',\n",
       " \"Iruka Sensei isn't trying to be mean to you.\",\n",
       " 'Then why only me?',\n",
       " 'He wants you to become strong from the bottom of his heart.',\n",
       " \"You both don't have parents.\",\n",
       " 'But I really wanted to graduate.',\n",
       " 'Heh...',\n",
       " \"I guess I have no choice…\\n I'll let you in on a big secret.\",\n",
       " 'Secret?',\n",
       " 'Iruka.',\n",
       " 'What is it, Lord Hokage?',\n",
       " 'I know how you feel.',\n",
       " 'But…\\n Naruto also grew up without knowing the love of his parents…like you.',\n",
       " 'Let me go!',\n",
       " 'My mom and dad are still out there fighting!',\n",
       " 'Wake up, Iruka Sensei!',\n",
       " \"What's the matter?\",\n",
       " \"Come to Lord Hokage's immediately!\",\n",
       " 'I heard that Naruto… stole the Scroll of Sealing.',\n",
       " 'The Scroll of Sealing?!',\n",
       " \"Let's see…\\n The first Jutsu is… Multi-Shadow Clone Jutsu?\",\n",
       " 'What?!',\n",
       " \"Already a Jutsu I'm no good at?\",\n",
       " 'Lord Hokage!',\n",
       " \"We can't forgive him!\",\n",
       " 'This is not just a prank!',\n",
       " 'The Scroll is a dangerous item that the First Hokage sealed!',\n",
       " 'Depending on its use…\\n It will be a major disaster if it is taken out of the village!',\n",
       " 'Yes.',\n",
       " 'Bring Naruto here at once!',\n",
       " 'Yes, sir!',\n",
       " 'Where did you go…Naruto?',\n",
       " 'I will tell everyone in the village about this and eliminate Naruto…\\n Then the Scroll of Sealing will be mine!',\n",
       " 'Hey you, Naruto!',\n",
       " \"You found me..\\n And I've only learned one Jutsu.\",\n",
       " \"He's been practicing the Jutsu…\\n until he's become this exhausted and dirty…?\",\n",
       " 'Listen, listen!',\n",
       " \"I'm gonna show you this amazing Jutsu!\",\n",
       " \"You're gonna let me graduate if I can do it!\",\n",
       " \"Isn't it true that I can graduate if I can do one of the Jutsu written here?\",\n",
       " 'Who told you that?',\n",
       " 'Mizuki Sensei.',\n",
       " 'He told me about this scroll, and this place…\\n Mizuki did?!',\n",
       " \"I'm impressed you found this place.\",\n",
       " 'I see now…how it is.',\n",
       " 'Naruto, give me that scroll.',\n",
       " \"Wait, wait… What's going on here?\",\n",
       " 'Naruto!',\n",
       " 'Never give him that scroll!',\n",
       " 'It is a dangerous object that contains forbidden Ninja Jutsu.',\n",
       " 'It was sealed.',\n",
       " 'Mizuki used you in order to get it for himself!',\n",
       " 'W-Wha--?',\n",
       " 'Naruto, Iruka is only afraid of you holding that scroll!',\n",
       " 'Huh?',\n",
       " 'What are you saying, Mizuki!',\n",
       " \"Don't let him fool you, Naruto!\",\n",
       " 'I will tell you the truth.',\n",
       " 'Idiot!',\n",
       " \"Don't do that!\",\n",
       " 'After an incident 12 years ago, a rule was created.',\n",
       " 'A rule?',\n",
       " 'That is, Naruto, a rule everybody but you knows.',\n",
       " 'Except me?!',\n",
       " 'What is it?',\n",
       " 'Stop it, Mizuki!',\n",
       " 'The rule forbids anyone from revealing that you are actually the Demon Fox Spirit!',\n",
       " 'Huh?',\n",
       " \"You are actually the Demon, Nine-Tailed Fox Spirit,\\n who killed Iruka's parents and destroyed our village!\",\n",
       " 'Stop it!',\n",
       " 'Everyone has been deceiving you ever since.',\n",
       " \"Didn't you find it strange?\",\n",
       " 'Why everyone hated you so much?',\n",
       " 'No!',\n",
       " 'No!',\n",
       " 'No!',\n",
       " 'No!',\n",
       " 'No!',\n",
       " 'Naruto…\\n Nobody accepts you.',\n",
       " \"That's why Iruka hates you so much!\",\n",
       " 'Iruka... Naruto grew up without the love of parents.',\n",
       " 'Everyone avoids him like the plague after what happened.',\n",
       " \"That's why he keeps misbehaving.\",\n",
       " \"It's the only way for him to get any attention or acknowledgement.\",\n",
       " 'He pretends to be tough, but inside he is really hurting.',\n",
       " 'Die, Naruto!',\n",
       " 'Naruto!',\n",
       " 'Get down!',\n",
       " 'Why…?',\n",
       " 'Because you and I are the same.',\n",
       " 'After my parents died,\\n nobody paid attention to me or gave me any support.',\n",
       " \"I wasn't a good student in school.\",\n",
       " 'I was the class clown… because I wanted people to notice me.',\n",
       " \"I couldn't get noticed through excellence, so I kept doing stupid things.\",\n",
       " 'It was so hard.',\n",
       " \"Isn't that right, Naruto?\",\n",
       " 'You felt so lonely…right?',\n",
       " 'And you suffered inside, right?',\n",
       " \"I'm sorry, Naruto….\",\n",
       " \"If I had been more responsible, maybe you wouldn't have suffered so much.\",\n",
       " \"Don't make me laugh!\",\n",
       " 'Iruka has always hated you, ever since you killed his parents!',\n",
       " \"He's just saying all that to get the Scroll of Sealing back!\",\n",
       " 'Naruto!',\n",
       " 'Narutoooooo!',\n",
       " 'He is not the type of kid who will change his mind.',\n",
       " 'He will take revenge against our village using that scroll!',\n",
       " \"Didn't you see his eyes?\",\n",
       " 'Those are the eyes of a Demon Fox.',\n",
       " \"No… Naruto…isn't…like that at all!\",\n",
       " 'All I want is to kill Naruto and get the scroll.',\n",
       " \"I'll take care of you later!\",\n",
       " \"I-I won't let you…\\n Well, well.\",\n",
       " 'Mizuki has a big mouth!',\n",
       " \"Naruto feels worse than he's ever felt.\",\n",
       " 'He might unleash the power locked up inside him.',\n",
       " 'The Scroll of Sealing is now with him.',\n",
       " \"There's a slight chance he might actually release\\n the Nine-Tailed Fox Spirit sealed inside him!\",\n",
       " \"If that happens…\\n I've found him!\",\n",
       " 'Naruto!',\n",
       " 'Everything that Mizuki said was a lie!',\n",
       " 'Give me that scroll, quick!',\n",
       " 'Mizuki is after the scroll!',\n",
       " \"It can't be…\\n Why is it, Naruto?\",\n",
       " \"How…\\n did you know I wasn't Iruka…?\",\n",
       " \"Because I'm Iruka.\",\n",
       " 'I see.',\n",
       " \"What's in it for you to protect the one who killed your family?\",\n",
       " \"I'm not gonna let a stupid idiot like you get that scroll!\",\n",
       " \"You're the idiot.\",\n",
       " 'Naruto is the same as me.',\n",
       " 'Same?',\n",
       " 'Anyone can do whatever he wants once he has the scroll.',\n",
       " \"There is no way that that monster…\\n that Fox Spirit, won't take advantage of the power of that scroll!\",\n",
       " \"You're right…\\n I guess it was true all along!\",\n",
       " 'See, Iruka Sensei never really cared for me at all!',\n",
       " '...if he was the Demon Fox Spirit.',\n",
       " 'But Naruto is different!',\n",
       " 'I know that he is an exceptional student.',\n",
       " \"He works very hard,\\n and he's single-minded and clumsy at the same time.\",\n",
       " 'No one accepts him, but he knows the meaning of human suffering.',\n",
       " 'He is not the Demon Fox Spirit.',\n",
       " \"He's Naruto Uzumaki of the Village Hidden in the Leaves!\",\n",
       " 'You are so gullible.',\n",
       " 'lruka!',\n",
       " 'I was gonna take you down later, but I have changed my mind.',\n",
       " 'Die!',\n",
       " 'I guess this is the end for me…\\n Naruto?!',\n",
       " 'You surprised me there, freak.',\n",
       " \"If you ever lay a hand on Iruka Sensei, I'll kill you!\",\n",
       " 'Shut up!',\n",
       " 'I can take care of a kid like you with a single blow!',\n",
       " \"Why don't you try then?\",\n",
       " \"I'll strike you back a thousand-fold!\",\n",
       " \"Let's see you try!\",\n",
       " 'Show me what you can do, Demon Fox!',\n",
       " 'Shadow Clone Jutsu!',\n",
       " 'Naruto!',\n",
       " \"You've…\\n Those aren't just images but actual clones!\",\n",
       " \"That's an advanced Ninjutsu!\",\n",
       " \"What's this…?\",\n",
       " \"What's the matter?\",\n",
       " \"C'mon!\",\n",
       " \"Weren't you gonna get me with one blow?\",\n",
       " 'Here!',\n",
       " \"In that case… I'll come to you.\",\n",
       " 'I kinda got carried away.',\n",
       " 'lruka Sensei, are you okay?',\n",
       " 'Yeah.',\n",
       " \"He's really something.\",\n",
       " 'Maybe it is true.',\n",
       " 'Maybe he will surpass all the Hokage leaders…\\n Naruto, come over here.',\n",
       " \"I'd like to give you something.\",\n",
       " 'Has anyone found Naruto yet?',\n",
       " 'No.',\n",
       " \"Darn, this is going to be bad…\\n There's no need to worry anymore.\",\n",
       " 'Lord Hokage!',\n",
       " \"He'll be back soon.\",\n",
       " 'Sensei, how much longer?',\n",
       " 'OK, you may open your eyes now.',\n",
       " 'Congratulations…on your graduation.',\n",
       " \"In celebration, we'll have ramen tonight!\",\n",
       " 'Iruka Sensei!',\n",
       " 'That hurts!',\n",
       " \"Naruto…\\n I was going to lecture to you...\\n that the road gets more difficult now that you're a Ninja.\",\n",
       " \"But I guess I'll just wait to tell you that until we get to the ramen stand…\\n W-What do you want, you little shrimp?\",\n",
       " 'Quit following me!',\n",
       " \"You're smaller than me and\\n you're saying that you're gonna become the Fifth Hokage?\",\n",
       " \"I don't care if you are the 3rd Hokage's grandson or not.\",\n",
       " \"It's not that easy to be a Hokage!\",\n",
       " \"If you want it that bad, you're gonna have to beat me first!\",\n",
       " 'Next episode:  \"My Name Is Konohamaru!\"',\n",
       " 'Watch my outstanding performance!']"
      ]
     },
     "execution_count": 120,
     "metadata": {},
     "output_type": "execute_result"
    }
   ],
   "source": [
    "script_sent= sent_tokenize(script)\n",
    "script_sent"
   ]
  },
  {
   "cell_type": "code",
   "execution_count": 121,
   "id": "dc5930a7",
   "metadata": {},
   "outputs": [],
   "source": [
    "sent_batch_size=20\n",
    "script_batches=[]\n",
    "\n",
    "for i in range(0 , len(script_sent) , sent_batch_size):\n",
    "    sent=' '.join(script_sent[i:i+sent_batch_size])\n",
    "    script_batches.append(sent)\n",
    "    "
   ]
  },
  {
   "cell_type": "code",
   "execution_count": 123,
   "id": "330ebd60",
   "metadata": {},
   "outputs": [],
   "source": [
    "theme_output=theme_classifier(\n",
    "    script_batches[:2],\n",
    "    theme_list,\n",
    "    multi_label=True\n",
    ")"
   ]
  },
  {
   "cell_type": "code",
   "execution_count": 126,
   "id": "2eb09213",
   "metadata": {},
   "outputs": [],
   "source": [
    "themes={}\n",
    "for output in theme_output:\n",
    "    for label ,score in zip(output['labels'],output['scores']):\n",
    "        if label not in themes:\n",
    "            themes[label]=[]\n",
    "        themes[label].append(score)"
   ]
  },
  {
   "cell_type": "code",
   "execution_count": 129,
   "id": "c5e24dce",
   "metadata": {},
   "outputs": [],
   "source": [
    "themes ={ key: np.mean(np.array(value))  for key , value in themes.items()}"
   ]
  },
  {
   "cell_type": "code",
   "execution_count": 131,
   "id": "84ef8d1f",
   "metadata": {},
   "outputs": [],
   "source": [
    "def get_themes_inference(script):\n",
    "    script_sent= sent_tokenize(script)\n",
    "\n",
    "    sent_batch_size=20\n",
    "    script_batches=[]\n",
    "\n",
    "    for i in range(0 , len(script_sent) , sent_batch_size):\n",
    "        sent=' '.join(script_sent[i:i+sent_batch_size])\n",
    "        script_batches.append(sent)\n",
    "\n",
    "\n",
    "    theme_output=theme_classifier(\n",
    "    script_batches[:2],\n",
    "    theme_list,\n",
    "    multi_label=True\n",
    "    )\n",
    "    \n",
    "\n",
    "    themes={}\n",
    "    for output in theme_output:\n",
    "        for label ,score in zip(output['labels'],output['scores']):\n",
    "            if label not in themes:\n",
    "                themes[label]=[]\n",
    "            themes[label].append(score)\n",
    "\n",
    "\n",
    "    themes ={ key: np.mean(np.array(value))  for key , value in themes.items()}\n",
    "\n",
    "    return themes\n"
   ]
  },
  {
   "cell_type": "code",
   "execution_count": 138,
   "id": "45539c8b",
   "metadata": {},
   "outputs": [],
   "source": [
    "dff=df.head(2)"
   ]
  },
  {
   "cell_type": "code",
   "execution_count": 139,
   "id": "13947ef8",
   "metadata": {},
   "outputs": [],
   "source": [
    "output=dff['script'].apply(get_themes_inference)"
   ]
  },
  {
   "cell_type": "code",
   "execution_count": 142,
   "id": "952f324c",
   "metadata": {},
   "outputs": [],
   "source": [
    "theme_df=pd.DataFrame(output.tolist())"
   ]
  },
  {
   "cell_type": "code",
   "execution_count": 144,
   "id": "55176173",
   "metadata": {},
   "outputs": [
    {
     "name": "stderr",
     "output_type": "stream",
     "text": [
      "C:\\Users\\menah\\AppData\\Local\\Temp\\ipykernel_20060\\3263655287.py:1: SettingWithCopyWarning: \n",
      "A value is trying to be set on a copy of a slice from a DataFrame.\n",
      "Try using .loc[row_indexer,col_indexer] = value instead\n",
      "\n",
      "See the caveats in the documentation: https://pandas.pydata.org/pandas-docs/stable/user_guide/indexing.html#returning-a-view-versus-a-copy\n",
      "  dff[theme_df.columns]=theme_df\n",
      "C:\\Users\\menah\\AppData\\Local\\Temp\\ipykernel_20060\\3263655287.py:1: SettingWithCopyWarning: \n",
      "A value is trying to be set on a copy of a slice from a DataFrame.\n",
      "Try using .loc[row_indexer,col_indexer] = value instead\n",
      "\n",
      "See the caveats in the documentation: https://pandas.pydata.org/pandas-docs/stable/user_guide/indexing.html#returning-a-view-versus-a-copy\n",
      "  dff[theme_df.columns]=theme_df\n",
      "C:\\Users\\menah\\AppData\\Local\\Temp\\ipykernel_20060\\3263655287.py:1: SettingWithCopyWarning: \n",
      "A value is trying to be set on a copy of a slice from a DataFrame.\n",
      "Try using .loc[row_indexer,col_indexer] = value instead\n",
      "\n",
      "See the caveats in the documentation: https://pandas.pydata.org/pandas-docs/stable/user_guide/indexing.html#returning-a-view-versus-a-copy\n",
      "  dff[theme_df.columns]=theme_df\n",
      "C:\\Users\\menah\\AppData\\Local\\Temp\\ipykernel_20060\\3263655287.py:1: SettingWithCopyWarning: \n",
      "A value is trying to be set on a copy of a slice from a DataFrame.\n",
      "Try using .loc[row_indexer,col_indexer] = value instead\n",
      "\n",
      "See the caveats in the documentation: https://pandas.pydata.org/pandas-docs/stable/user_guide/indexing.html#returning-a-view-versus-a-copy\n",
      "  dff[theme_df.columns]=theme_df\n",
      "C:\\Users\\menah\\AppData\\Local\\Temp\\ipykernel_20060\\3263655287.py:1: SettingWithCopyWarning: \n",
      "A value is trying to be set on a copy of a slice from a DataFrame.\n",
      "Try using .loc[row_indexer,col_indexer] = value instead\n",
      "\n",
      "See the caveats in the documentation: https://pandas.pydata.org/pandas-docs/stable/user_guide/indexing.html#returning-a-view-versus-a-copy\n",
      "  dff[theme_df.columns]=theme_df\n",
      "C:\\Users\\menah\\AppData\\Local\\Temp\\ipykernel_20060\\3263655287.py:1: SettingWithCopyWarning: \n",
      "A value is trying to be set on a copy of a slice from a DataFrame.\n",
      "Try using .loc[row_indexer,col_indexer] = value instead\n",
      "\n",
      "See the caveats in the documentation: https://pandas.pydata.org/pandas-docs/stable/user_guide/indexing.html#returning-a-view-versus-a-copy\n",
      "  dff[theme_df.columns]=theme_df\n",
      "C:\\Users\\menah\\AppData\\Local\\Temp\\ipykernel_20060\\3263655287.py:1: SettingWithCopyWarning: \n",
      "A value is trying to be set on a copy of a slice from a DataFrame.\n",
      "Try using .loc[row_indexer,col_indexer] = value instead\n",
      "\n",
      "See the caveats in the documentation: https://pandas.pydata.org/pandas-docs/stable/user_guide/indexing.html#returning-a-view-versus-a-copy\n",
      "  dff[theme_df.columns]=theme_df\n",
      "C:\\Users\\menah\\AppData\\Local\\Temp\\ipykernel_20060\\3263655287.py:1: SettingWithCopyWarning: \n",
      "A value is trying to be set on a copy of a slice from a DataFrame.\n",
      "Try using .loc[row_indexer,col_indexer] = value instead\n",
      "\n",
      "See the caveats in the documentation: https://pandas.pydata.org/pandas-docs/stable/user_guide/indexing.html#returning-a-view-versus-a-copy\n",
      "  dff[theme_df.columns]=theme_df\n"
     ]
    }
   ],
   "source": [
    "dff[theme_df.columns]=theme_df"
   ]
  },
  {
   "cell_type": "code",
   "execution_count": 145,
   "id": "50ebaf43",
   "metadata": {},
   "outputs": [
    {
     "data": {
      "text/html": [
       "<div>\n",
       "<style scoped>\n",
       "    .dataframe tbody tr th:only-of-type {\n",
       "        vertical-align: middle;\n",
       "    }\n",
       "\n",
       "    .dataframe tbody tr th {\n",
       "        vertical-align: top;\n",
       "    }\n",
       "\n",
       "    .dataframe thead th {\n",
       "        text-align: right;\n",
       "    }\n",
       "</style>\n",
       "<table border=\"1\" class=\"dataframe\">\n",
       "  <thead>\n",
       "    <tr style=\"text-align: right;\">\n",
       "      <th></th>\n",
       "      <th>episode</th>\n",
       "      <th>script</th>\n",
       "      <th>dialogue</th>\n",
       "      <th>betrayal</th>\n",
       "      <th>battle</th>\n",
       "      <th>sacrifice</th>\n",
       "      <th>self development</th>\n",
       "      <th>hope</th>\n",
       "      <th>friendship</th>\n",
       "      <th>love</th>\n",
       "    </tr>\n",
       "  </thead>\n",
       "  <tbody>\n",
       "    <tr>\n",
       "      <th>0</th>\n",
       "      <td>1</td>\n",
       "      <td>A long time ago, a powerful demon fox appeared...</td>\n",
       "      <td>0.958543</td>\n",
       "      <td>0.792708</td>\n",
       "      <td>0.756410</td>\n",
       "      <td>0.680433</td>\n",
       "      <td>0.798159</td>\n",
       "      <td>0.201669</td>\n",
       "      <td>0.072629</td>\n",
       "      <td>0.034141</td>\n",
       "    </tr>\n",
       "    <tr>\n",
       "      <th>1</th>\n",
       "      <td>2</td>\n",
       "      <td>C'mon!\\n Running like a fugitive,\\n Being chas...</td>\n",
       "      <td>0.960606</td>\n",
       "      <td>0.429944</td>\n",
       "      <td>0.684846</td>\n",
       "      <td>0.570703</td>\n",
       "      <td>0.482811</td>\n",
       "      <td>0.154534</td>\n",
       "      <td>0.046261</td>\n",
       "      <td>0.173261</td>\n",
       "    </tr>\n",
       "  </tbody>\n",
       "</table>\n",
       "</div>"
      ],
      "text/plain": [
       "   episode                                             script  dialogue  \\\n",
       "0        1  A long time ago, a powerful demon fox appeared...  0.958543   \n",
       "1        2  C'mon!\\n Running like a fugitive,\\n Being chas...  0.960606   \n",
       "\n",
       "   betrayal    battle  sacrifice  self development      hope  friendship  \\\n",
       "0  0.792708  0.756410   0.680433          0.798159  0.201669    0.072629   \n",
       "1  0.429944  0.684846   0.570703          0.482811  0.154534    0.046261   \n",
       "\n",
       "       love  \n",
       "0  0.034141  \n",
       "1  0.173261  "
      ]
     },
     "execution_count": 145,
     "metadata": {},
     "output_type": "execute_result"
    }
   ],
   "source": [
    "dff"
   ]
  },
  {
   "cell_type": "markdown",
   "id": "cb59f51b",
   "metadata": {},
   "source": [
    "# visualize output"
   ]
  },
  {
   "cell_type": "code",
   "execution_count": 149,
   "id": "0b3e2216",
   "metadata": {},
   "outputs": [],
   "source": [
    "dff=dff.drop('dialogue', axis=1)"
   ]
  },
  {
   "cell_type": "code",
   "execution_count": 154,
   "id": "d118a97f",
   "metadata": {},
   "outputs": [],
   "source": [
    "dff=dff.drop(['episode' , 'script'], axis=1).sum().reset_index()"
   ]
  },
  {
   "cell_type": "code",
   "execution_count": 156,
   "id": "97053b8c",
   "metadata": {},
   "outputs": [],
   "source": [
    "dff.columns=['theme','score']"
   ]
  },
  {
   "cell_type": "code",
   "execution_count": 158,
   "id": "68d8f695",
   "metadata": {},
   "outputs": [],
   "source": [
    "import matplotlib.pyplot as plt\n",
    "import seaborn as sns"
   ]
  },
  {
   "cell_type": "code",
   "execution_count": 160,
   "id": "9ca35fe1",
   "metadata": {},
   "outputs": [
    {
     "data": {
      "image/png": "[encoded data removed]",
      "text/plain": [
       "<Figure size 640x480 with 1 Axes>"
      ]
     },
     "metadata": {},
     "output_type": "display_data"
    }
   ],
   "source": [
    "sns.barplot(data=dff ,x='theme' , y='score')\n",
    "plt.xticks(rotation=45)\n",
    "plt.show()"
   ]
  }
 ],
 "metadata": {
  "kernelspec": {
   "display_name": "base",
   "language": "python",
   "name": "python3"
  },
  "language_info": {
   "codemirror_mode": {
    "name": "ipython",
    "version": 3
   },
   "file_extension": ".py",
   "mimetype": "text/x-python",
   "name": "python",
   "nbconvert_exporter": "python",
   "pygments_lexer": "ipython3",
   "version": "3.12.7"
  }
 },
 "nbformat": 4,
 "nbformat_minor": 5
}
